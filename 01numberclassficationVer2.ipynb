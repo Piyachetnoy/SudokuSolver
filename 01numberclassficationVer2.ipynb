{
 "cells": [
  {
   "cell_type": "code",
   "execution_count": 1,
   "id": "331885d5-e6c1-4595-8880-220d71826209",
   "metadata": {},
   "outputs": [],
   "source": [
    "import numpy as np \n",
    "import matplotlib.pyplot as plt\n",
    "import os, random\n",
    "import cv2"
   ]
  },
  {
   "cell_type": "code",
   "execution_count": 2,
   "id": "87608bcc-bfdd-4e55-b06f-4bc122b35a78",
   "metadata": {},
   "outputs": [
    {
     "name": "stdout",
     "output_type": "stream",
     "text": [
      "Total DataUnits =  10160\n"
     ]
    },
    {
     "data": {
      "text/plain": [
       "(10160, 64, 64, 3)"
      ]
     },
     "execution_count": 2,
     "metadata": {},
     "output_type": "execute_result"
    }
   ],
   "source": [
    "#Loading the data from digit datasets\n",
    "#data = os.listdir(\"digits/digits_jpeg/digits_jpeg\" )\n",
    "datapath = os.listdir(\"digits/digits updated/digits updated\" )\n",
    "data_classes = len(datapath)\n",
    "data_X = []     \n",
    "data_y = []\n",
    "\n",
    "\"\"\"\n",
    "for i in range (0,len(data)):\n",
    "    data_list = os.listdir(\"digits/digits_jpeg/digits_jpeg\" +\"/\"+str(i))\n",
    "    for j in data_list:\n",
    "        pic = cv2.imread(\"digits/digits_jpeg/digits_jpeg\" +\"/\"+str(i)+\"/\"+j)\n",
    "        pic = cv2.resize(pic,(32,32))\n",
    "        data_X.append(pic)\n",
    "        data_y.append(i)\n",
    "\"\"\"\n",
    "\n",
    "for i in range (0,data_classes):\n",
    "    data_list = os.listdir(\"digits/digits updated/digits updated\" +\"/\"+str(i))\n",
    "    for j in data_list:\n",
    "        pic = cv2.imread(\"digits/digits updated/digits updated\" +\"/\"+str(i)+\"/\"+j)\n",
    "        pic = cv2.resize(pic,(64,64))\n",
    "        data_X.append(pic)\n",
    "        data_y.append(i)\n",
    "\n",
    "if len(data_X) == len(data_y) :\n",
    "    print(\"Total DataUnits = \",len(data_X))\n",
    "# Labels and images\n",
    "data_X = np.array(data_X)\n",
    "data_y = np.array(data_y)\n",
    "data_X.shape"
   ]
  },
  {
   "cell_type": "code",
   "execution_count": 3,
   "id": "5cb243d6-c7a0-4156-8f4f-006ceb70925a",
   "metadata": {},
   "outputs": [
    {
     "name": "stdout",
     "output_type": "stream",
     "text": [
      "[0 0 0 ... 9 9 9]\n"
     ]
    }
   ],
   "source": [
    "print(data_y)"
   ]
  },
  {
   "cell_type": "code",
   "execution_count": 4,
   "id": "11350db5-58f4-4e31-ac0b-255c7ee49932",
   "metadata": {},
   "outputs": [],
   "source": [
    "import sklearn\n",
    "from sklearn.model_selection import train_test_split\n",
    "from sklearn.metrics import accuracy_score, classification_report"
   ]
  },
  {
   "cell_type": "code",
   "execution_count": null,
   "id": "2901ac10-1854-4461-a888-9de89a36d9cc",
   "metadata": {},
   "outputs": [],
   "source": [
    "from sklearn.model_selection import train_test_split\n",
    "#Spliting the train validation and test sets\n",
    "train_X, test_X, train_y, test_y = train_test_split(data_X,data_y,test_size=0.05)\n",
    "train_X, valid_X, train_y, valid_y = train_test_split(train_X,train_y,test_size=0.2)\n",
    "print(\"Training Set Shape = \",train_X.shape)\n",
    "print(\"Validation Set Shape = \",valid_X.shape)\n",
    "print(\"Test Set Shape = \",test_X.shape)"
   ]
  },
  {
   "cell_type": "code",
   "execution_count": null,
   "id": "66bb9acf-9043-405b-95c1-e560ffc28930",
   "metadata": {},
   "outputs": [],
   "source": [
    "import tensorflow as tf\n",
    "from tensorflow import keras\n",
    "from tensorflow.keras.preprocessing.image import ImageDataGenerator\n",
    "#from keras.src.legacy.preprocessing.image import ImageDataGenerator\n",
    "from tensorflow.keras.callbacks import TensorBoard\n",
    "#from keras.preprocessing.image import load_img\n",
    "from tensorflow.keras.utils import load_img\n",
    "from keras.utils import to_categorical\n",
    "from tensorflow.keras.models import Sequential\n",
    "from tensorflow.keras.layers import Activation, Dropout, Dense, Flatten, BatchNormalization, Conv2D, MaxPooling2D\n",
    "from tensorflow.keras.optimizers import RMSprop\n",
    "from tensorflow.keras import backend as K\n",
    "from tensorflow.keras.preprocessing import image"
   ]
  },
  {
   "cell_type": "code",
   "execution_count": null,
   "id": "6bb52b2c-caa5-4737-a1f5-9c5b59c1271b",
   "metadata": {},
   "outputs": [],
   "source": [
    "def Prep(img):\n",
    "    img = cv2.cvtColor(img,cv2.COLOR_BGR2GRAY) #making image grayscale\n",
    "    img = cv2.equalizeHist(img) #Histogram equalization to enhance contrast\n",
    "    img = img/255 #normalizing\n",
    "    return img\n",
    "train_X = np.array(list(map(Prep, train_X)))\n",
    "test_X = np.array(list(map(Prep, test_X)))\n",
    "valid_X= np.array(list(map(Prep, valid_X)))\n",
    "#Reshaping the images\n",
    "train_X = train_X.reshape(train_X.shape[0], train_X.shape[1], train_X.shape[2],1)\n",
    "test_X = test_X.reshape(test_X.shape[0], test_X.shape[1], test_X.shape[2],1)\n",
    "valid_X = valid_X.reshape(valid_X.shape[0], valid_X.shape[1], valid_X.shape[2],1)\n",
    "#Augmentation\n",
    "datagen = ImageDataGenerator(width_shift_range=0.1, height_shift_range=0.1, zoom_range=0.2, shear_range=0.1, rotation_range=10)\n",
    "datagen.fit(train_X)"
   ]
  },
  {
   "cell_type": "code",
   "execution_count": null,
   "id": "c0bf5762-3c2b-4d73-b484-811c071a792c",
   "metadata": {},
   "outputs": [],
   "source": [
    "train_y = to_categorical(train_y, data_classes)\n",
    "test_y = to_categorical(test_y, data_classes)\n",
    "valid_y = to_categorical(valid_y, data_classes)"
   ]
  },
  {
   "cell_type": "code",
   "execution_count": null,
   "id": "44c21388-f834-4476-9c72-44a75ed55e7f",
   "metadata": {},
   "outputs": [],
   "source": [
    "#Creating a Neural Network\n",
    "model = Sequential()\n",
    "model.add((Conv2D(60,(5,5),input_shape=(64, 64, 1) ,padding = 'Same' ,activation='relu')))\n",
    "model.add((Conv2D(60, (5,5),padding=\"same\",activation='relu')))\n",
    "model.add(MaxPooling2D(pool_size=(2,2)))\n",
    "\n",
    "#model.add(Dropout(0.25))\n",
    "model.add((Conv2D(30, (3,3),padding=\"same\", activation='relu')))\n",
    "model.add((Conv2D(30, (3,3), padding=\"same\", activation='relu')))\n",
    "model.add(MaxPooling2D(pool_size=(2,2), strides=(2,2)))\n",
    "model.add(Dropout(0.5))\n",
    "\n",
    "model.add(Flatten())\n",
    "model.add(Dense(500,activation='relu'))\n",
    "model.add(Dropout(0.5))\n",
    "model.add(Dense(10, activation='softmax'))\n",
    "model.summary()"
   ]
  },
  {
   "cell_type": "code",
   "execution_count": null,
   "id": "52345a7e-7afc-4e6a-bc7f-08cbf158859b",
   "metadata": {},
   "outputs": [],
   "source": [
    "tf.debugging.set_log_device_placement(True)\n",
    "\n",
    "# Place tensors on the CPU\n",
    "with tf.device('/CPU:0'):\n",
    "  a = tf.constant([[1.0, 2.0, 3.0], [4.0, 5.0, 6.0]])\n",
    "  b = tf.constant([[1.0, 2.0], [3.0, 4.0], [5.0, 6.0]])\n",
    "\n",
    "# Run on the GPU\n",
    "c = tf.matmul(a, b)\n",
    "print(c)"
   ]
  },
  {
   "cell_type": "code",
   "execution_count": null,
   "id": "f4f98b53-3ed0-40da-8220-7773507ac211",
   "metadata": {},
   "outputs": [
    {
     "name": "stdout",
     "output_type": "stream",
     "text": [
      "Epoch 1/30\n"
     ]
    }
   ],
   "source": [
    "#Compiling the model\n",
    "NAME = \"NumberRecog-CNN\"\n",
    "optimizer = RMSprop(learning_rate=0.001, rho=0.9, epsilon = 1e-08, decay=0.0)\n",
    "tensorboard = TensorBoard(log_dir=\"logsV2/{}\".format(NAME))\n",
    "\n",
    "model.compile(optimizer=optimizer,loss='categorical_crossentropy',metrics=['accuracy'])\n",
    "\n",
    "#Fit the model\n",
    "with tf.device('/GPU:0'):\n",
    "    history = model.fit(datagen.flow(train_X, train_y, batch_size=32),\n",
    "                        epochs = 30, \n",
    "                        validation_data = (valid_X, valid_y),\n",
    "                        verbose = 2, \n",
    "                        steps_per_epoch= 200,\n",
    "                        callbacks=[tensorboard])\n",
    "\n",
    "# Testing the model on the test set\n",
    "score = model.evaluate(test_X, test_y, verbose=0)\n",
    "print('Test Score = ',score[0])\n",
    "print('Test Accuracy =', score[1])"
   ]
  },
  {
   "cell_type": "code",
   "execution_count": 12,
   "id": "64ca7344-49c1-415a-a1e6-129ecfe25fc4",
   "metadata": {},
   "outputs": [],
   "source": [
    "model.save('NumModelV1.keras')"
   ]
  },
  {
   "cell_type": "code",
   "execution_count": null,
   "id": "e057ae13-5a2a-4b3e-a563-f6d37ba2518c",
   "metadata": {},
   "outputs": [],
   "source": []
  }
 ],
 "metadata": {
  "kernelspec": {
   "display_name": "Python 3 (ipykernel)",
   "language": "python",
   "name": "python3"
  },
  "language_info": {
   "codemirror_mode": {
    "name": "ipython",
    "version": 3
   },
   "file_extension": ".py",
   "mimetype": "text/x-python",
   "name": "python",
   "nbconvert_exporter": "python",
   "pygments_lexer": "ipython3",
   "version": "3.9.19"
  }
 },
 "nbformat": 4,
 "nbformat_minor": 5
}
